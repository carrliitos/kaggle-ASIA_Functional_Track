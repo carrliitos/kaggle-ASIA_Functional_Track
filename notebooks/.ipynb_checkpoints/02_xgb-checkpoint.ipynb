{
 "cells": [
  {
   "cell_type": "code",
   "execution_count": 1,
   "id": "95290373-34f0-48dc-a12d-4a848e442334",
   "metadata": {},
   "outputs": [],
   "source": [
    "import pandas as pd\n",
    "import numpy as np\n",
    "import matplotlib.pyplot as plt\n",
    "from sklearn import set_config\n",
    "from sklearn.model_selection import RandomizedSearchCV\n",
    "from xgboost import XGBClassifier, plot_importance\n",
    "from scipy import stats\n",
    "from scipy.stats import skew, kurtosis"
   ]
  },
  {
   "cell_type": "code",
   "execution_count": 2,
   "id": "dc1253fb-efab-41f2-b474-9e3db5fb4127",
   "metadata": {},
   "outputs": [],
   "source": [
    "VER = 28            # VERSION NAME FOR SAVED MODEL FILES\n",
    "SEED = 42           # TRAIN RANDOM SEED\n",
    "NAN_VALUE = -127    # FILL NAN VALUE - will fit in int8\n",
    "FOLDS = 5           # FOLDS PER MODEL\n",
    "project_dir = \"../\" # PROJECT FOLDER"
   ]
  },
  {
   "cell_type": "markdown",
   "id": "300cf7d2-d79d-4a40-9c52-10fc6805e50a",
   "metadata": {},
   "source": [
    "## XGBoost Regressor with Randomized Search Hypertuning\n",
    "\n",
    "We train an XGBoost model using randomized search for hyperparameter tuning."
   ]
  },
  {
   "cell_type": "code",
   "execution_count": 3,
   "id": "a69d9a9a-60bc-4bb1-a247-67e367622964",
   "metadata": {},
   "outputs": [],
   "source": [
    "data_raw_path = \"../data-raw\"\n",
    "\n",
    "train_features_csv = f\"{data_raw_path}/train_features.csv\"\n",
    "train_outcomes_functional_csv = f\"{data_raw_path}/train_outcomes_functional.csv\"\n",
    "\n",
    "test_features_csv = f\"{data_raw_path}/test_features.csv\"\n",
    "test_outcomes_csv = f\"{data_raw_path}/test_outcomes_Fun_template_update.csv\"\n",
    "\n",
    "metadata_csv = f\"{data_raw_path}/metadata.csv\""
   ]
  },
  {
   "cell_type": "code",
   "execution_count": 4,
   "id": "a7b6c04b-054f-4334-ab36-5107cd032062",
   "metadata": {},
   "outputs": [],
   "source": [
    "train_features_df = pd.read_csv(train_features_csv)\n",
    "train_outcomes_df = pd.read_csv(train_outcomes_functional_csv)\n",
    "\n",
    "test_features_df = pd.read_csv(test_features_csv)\n",
    "test_outcomes_df = pd.read_csv(test_outcomes_csv)\n",
    "\n",
    "metadata_df = pd.read_csv(metadata_csv)"
   ]
  },
  {
   "cell_type": "code",
   "execution_count": 5,
   "id": "15f4c837-99ea-4e06-a5f9-644ed5dd4294",
   "metadata": {},
   "outputs": [],
   "source": [
    "training_df = train_features_df.merge(train_outcomes_df, on=\"PID\", how=\"inner\")\n",
    "full_training_df = training_df.merge(metadata_df, on=\"PID\", how=\"inner\")\n",
    "\n",
    "testing_df = test_features_df.merge(test_outcomes_df, on=\"PID\", how=\"inner\")\n",
    "full_testing_df = testing_df.merge(metadata_df, on=\"PID\", how=\"inner\")"
   ]
  },
  {
   "cell_type": "markdown",
   "id": "8803c4aa-4b6f-40c5-baf5-6bb950e2e275",
   "metadata": {},
   "source": [
    "## Subsetting only Week 1 data"
   ]
  },
  {
   "cell_type": "code",
   "execution_count": 6,
   "id": "9cba1fd9-2c77-411d-b61f-205ea89d6788",
   "metadata": {},
   "outputs": [],
   "source": [
    "target_variables = [\"PID\", \"modben\", \"age_category\", \"sexcd\", \"bmi_category\", \"srdecc1\", \"surgcd1\", \"spcsuc1\", \"scdecc1\", \n",
    "                    \"hemccd1\", \"mhpsyccd\", \"mhneurcd\", \"mhcardcd\", \"mhmetacd\", \"tx1_r\", \"ais1\", \"elbfll01\", \"wrextl01\", \n",
    "                    \"elbexl01\", \"finfll01\", \"finabl01\", \"hipfll01\", \"kneexl01\", \"ankdol01\", \"gretol01\", \"ankpll01\", \n",
    "                    \"elbflr01\", \"wrextr01\", \"elbexr01\", \"finflr01\", \"finabr01\", \"hipflr01\", \"kneetr01\", \"ankdor01\", \n",
    "                    \"gretor01\", \"ankplr01\", \"c2ltl01\", \"c3ltl01\", \"c4ltl01\", \"c5ltl01\", \"c6ltl01\", \"c7ltl01\", \"c8ltl01\", \n",
    "                    \"t1ltl01\", \"t2ltl01\", \"t3ltl01\", \"t4ltl01\", \"t5ltl01\", \"t6ltl01\", \"t7ltl01\", \"t8ltl01\", \"t9ltl01\", \n",
    "                    \"t10ltl01\", \"t11ltl01\", \"t12ltl01\", \"l1ltl01\", \"l2ltl01\", \"l3ltl01\", \"l4ltl01\", \"l5ltl01\", \"s1ltl01\", \n",
    "                    \"s2ltl01\", \"s3ltl01\", \"s45ltl01\", \"c2ltr01\", \"c3ltr01\", \"c4ltr01\", \"c5ltr01\", \"c6ltr01\", \"c7ltr01\", \n",
    "                    \"c8ltr01\", \"t1ltr01\", \"t2ltr01\", \"t3ltr01\", \"t4ltr01\", \"t5ltr01\", \"t6ltr01\", \"t7ltr01\", \"t8ltr01\", \n",
    "                    \"t9ltr01\", \"t10ltr01\", \"t11ltr01\", \"t12ltr01\", \"l1ltr01\", \"l2ltr01\", \"l3ltr01\", \"l4ltr01\", \"l5ltr01\", \n",
    "                    \"s1ltr01\", \"s2ltr01\", \"s3ltr01\", \"s45ltr01\", \"c2ppl01\", \"c3ppl01\", \"c4ppl01\", \"c5ppl01\", \"c6ppl01\", \n",
    "                    \"c7ppl01\", \"c8ppl01\", \"t1ppl01\", \"t2ppl01\", \"t3ppl01\", \"t4ppl01\", \"t5ppl01\", \"t6ppl01\", \"t7ppl01\", \n",
    "                    \"t8ppl01\", \"t9ppl01\", \"t10ppl01\", \"t11ppl01\", \"t12ppl01\", \"l1ppl01\", \"l2ppl01\", \"l3ppl01\", \"l4ppl01\", \n",
    "                    \"l5ppl01\", \"s1ppl01\", \"s2ppl01\", \"s3ppl01\", \"s45ppl01\", \"c2ppr01\", \"c3ppr01\", \"c4ppr01\", \"c5ppr01\", \n",
    "                    \"c6ppr01\", \"c7ppr01\", \"c8ppr01\", \"t1ppr01\", \"t2ppr01\", \"t3ppr01\", \"t4ppr01\", \"t5ppr01\", \"t6ppr01\", \n",
    "                    \"t7ppr01\", \"t8ppr01\", \"t9ppr01\", \"t10ppr01\", \"t11ppr01\", \"t12ppr01\", \"l1ppr01\", \"l2ppr01\", \"l3ppr01\", \n",
    "                    \"l4ppr01\", \"l5ppr01\", \"s1ppr01\", \"s2ppr01\", \"s3ppr01\", \"s45ppr01\"]"
   ]
  },
  {
   "cell_type": "code",
   "execution_count": 7,
   "id": "b60dc03f-6582-4b05-925a-bd65e94f4083",
   "metadata": {},
   "outputs": [],
   "source": [
    "training_df = full_training_df[target_variables]\n",
    "testing_df = full_testing_df[target_variables]"
   ]
  },
  {
   "cell_type": "markdown",
   "id": "fb72ac04-3b09-4146-a149-3de419f414ae",
   "metadata": {},
   "source": [
    "## Feature Engineering"
   ]
  },
  {
   "cell_type": "code",
   "execution_count": 8,
   "id": "d169239f-f813-4114-bedc-6f3440c2a1ab",
   "metadata": {},
   "outputs": [],
   "source": [
    "def process_and_feature_engineering(df):\n",
    "    \"\"\"\n",
    "    Perform feature engineering by aggregating numerical and categorical features \n",
    "    over the 'PID' identifier. Adds statistical, ratio, trend, and comorbidity-based features.\n",
    "\n",
    "    Parameters\n",
    "    ==========\n",
    "    df (pd.DataFrame): Input DataFrame containing patient-level records with a 'PID' column and features.\n",
    "\n",
    "    Returns\n",
    "    =======\n",
    "    pd.DataFrame: Aggregated DataFrame with engineered features indexed by 'PID'.\n",
    "    \"\"\"\n",
    "    # Fill NA values\n",
    "    df = df.fillna(NAN_VALUE).copy()\n",
    "\n",
    "    # Exclude identifier and target from the feature list\n",
    "    all_cols = [col for col in df.columns if col not in [\"PID\", \"modben\"]]\n",
    "\n",
    "    # Categorical features\n",
    "    category_feats = [\"age_category\", \"sexcd\", \"bmi_category\", \"srdecc1\", \"surgcd1\", \"spcsuc1\", \"scdecc1\", \n",
    "                      \"hemccd1\", \"mhpsyccd\", \"mhneurcd\", \"mhcardcd\", \"mhmetacd\", \"tx1_r\", \"ais1\"]\n",
    "\n",
    "    # Numeric features\n",
    "    num_feats = [col for col in all_cols if col not in category_feats]\n",
    "\n",
    "    # --- Custom features before aggregation ---\n",
    "\n",
    "    # bmi_age_ratio\n",
    "    if \"bmi\" in df.columns and \"age\" in df.columns:\n",
    "        df[\"bmi_age_ratio\"] = df[\"bmi\"] / (df[\"age\"] + 1)\n",
    "        num_feats.append(\"bmi_age_ratio\")\n",
    "\n",
    "    # sexcd_avg_bmi\n",
    "    if \"bmi\" in df.columns and \"sexcd\" in df.columns:\n",
    "        df[\"sexcd_avg_bmi\"] = df.groupby(\"sexcd\")[\"bmi\"].transform(\"mean\")\n",
    "        num_feats.append(\"sexcd_avg_bmi\")\n",
    "\n",
    "    # comorbidity_sum\n",
    "    comorb_cols = ['mhpsyccd', 'mhneurcd', 'mhcardcd', 'mhmetacd']\n",
    "    comorb_cols = [col for col in comorb_cols if col in df.columns]\n",
    "    df[\"comorbidity_sum\"] = df[comorb_cols].sum(axis=1)\n",
    "    num_feats.append(\"comorbidity_sum\")\n",
    "\n",
    "    # Surgery complexity\n",
    "    df[\"surgery_complexity_score\"] = df[[\"srdecc1\", \"surgcd1\", \"spcsuc1\", \"scdecc1\", \"hemccd1\"]].sum(axis=1)\n",
    "    num_feats.append(\"surgery_complexity_score\")\n",
    "\n",
    "    # surgery was decompression only\n",
    "    df[\"surgery_was_decompression_only\"] = ((df[\"srdecc1\"] == 1) & (df[\"surgcd1\"] == 0)).astype(int)\n",
    "    category_feats.append(\"surgery_was_decompression_only\")\n",
    "\n",
    "    # Psych and Neuro overlap\n",
    "    df[\"psych_neuro_overlap\"] = ((df[\"mhpsyccd\"] == 1) & (df[\"mhneurcd\"] == 1)).astype(int)\n",
    "    category_feats.append(\"psych_neuro_overlap\")\n",
    "\n",
    "    # Metabolic and cardiac interactions\n",
    "    df[\"metabolic_and_cardiac\"] = ((df[\"mhmetacd\"] == 1) & (df[\"mhcardcd\"] == 1)).astype(int)\n",
    "    category_feats.append(\"metabolic_and_cardiac\")\n",
    "\n",
    "    # Treatment group and surgery type associations\n",
    "    df[\"treated_and_operated\"] = ((df[\"tx1_r\"].isin([\"D1\", \"D2\"])) & (df[\"surgcd1\"] == 1)).astype(int)\n",
    "    category_feats.append(\"treated_and_operated\")\n",
    "\n",
    "    # Age and Sex\n",
    "    df[\"age_sex_combo\"] = df[\"age_category\"].astype(str) + \"_\" + df[\"sexcd\"].astype(str)\n",
    "    category_feats.append(\"age_sex_combo\")\n",
    "    \n",
    "    # Surgical decisions in the context of comorbidities\n",
    "    df[\"surgery_with_comorbidities\"] = ((df[\"surgcd1\"] == 1) & (df[\"comorbidity_sum\"] > 0)).astype(int)\n",
    "    category_feats.append(\"surgery_with_comorbidities\")\n",
    "    \n",
    "    # Unknown history flags\n",
    "    df[\"num_unknown_history\"] = df[[\"mhpsyccd\", \"mhneurcd\", \"mhcardcd\", \"mhmetacd\"]].apply(lambda row: (row == 9).sum(), axis=1)\n",
    "    num_feats.append(\"num_unknown_history\")\n",
    "\n",
    "    # --- Aggregations ---\n",
    "\n",
    "    # Basic numeric stats\n",
    "    test_num_agg = df.groupby(\"PID\")[num_feats].agg(['mean', 'std', 'min', 'max', 'last'])\n",
    "    test_num_agg.columns = ['_'.join(x) for x in test_num_agg.columns]\n",
    "\n",
    "    # Skewness and kurtosis\n",
    "    test_num_skew = df.groupby(\"PID\")[num_feats].apply(lambda x: x.skew()).rename(columns=lambda x: f\"{x}_skew\")\n",
    "    test_num_kurt = df.groupby(\"PID\")[num_feats].apply(lambda x: x.apply(kurtosis)).rename(columns=lambda x: f\"{x}_kurt\")\n",
    "    test_num_skew_kurt = pd.concat([test_num_skew, test_num_kurt], axis=1)\n",
    "\n",
    "    # Range\n",
    "    test_num_range = df.groupby(\"PID\")[num_feats].apply(lambda x: x.max() - x.min())\n",
    "    test_num_range.columns = [f\"{col}_range\" for col in test_num_range.columns]\n",
    "\n",
    "    # IQR\n",
    "    test_num_iqr = df.groupby(\"PID\")[num_feats].apply(lambda x: x.quantile(0.75) - x.quantile(0.25))\n",
    "    test_num_iqr.columns = [f\"{col}_iqr\" for col in test_num_iqr.columns]\n",
    "\n",
    "    # Trend\n",
    "    def compute_trend(x):\n",
    "        idx = np.arange(len(x))\n",
    "        if len(x.dropna()) < 2:\n",
    "            return np.nan\n",
    "        return np.polyfit(idx, x.fillna(0), 1)[0]\n",
    "\n",
    "    test_num_trend = df.groupby(\"PID\")[num_feats].apply(lambda group: group.apply(compute_trend))\n",
    "    test_num_trend.columns = [f\"{col}_trend\" for col in test_num_trend.columns]\n",
    "\n",
    "    # Categorical aggregations\n",
    "    test_cat_agg = df.groupby(\"PID\")[category_feats].agg(['count', 'last', 'nunique'])\n",
    "    test_cat_agg.columns = ['_'.join(x) for x in test_cat_agg.columns]\n",
    "\n",
    "    # Combine everything\n",
    "    df = pd.concat([\n",
    "        test_num_agg,\n",
    "        test_num_skew_kurt,\n",
    "        test_num_range,\n",
    "        test_num_iqr,\n",
    "        test_num_trend,\n",
    "        test_cat_agg\n",
    "    ], axis=1)\n",
    "\n",
    "    del test_num_agg, test_num_skew_kurt, test_num_range, test_num_iqr, test_num_trend, test_cat_agg\n",
    "    print(f\"Shape after engineering: {df.shape}\")\n",
    "    return df"
   ]
  },
  {
   "cell_type": "code",
   "execution_count": 9,
   "id": "c7fc206a-4415-4e10-abc0-b12fb3cb7a10",
   "metadata": {},
   "outputs": [
    {
     "name": "stdout",
     "output_type": "stream",
     "text": [
      "Shape after engineering: (582, 1410)\n",
      "Shape after engineering: (118, 1410)\n"
     ]
    }
   ],
   "source": [
    "train = process_and_feature_engineering(training_df)\n",
    "test = process_and_feature_engineering(testing_df)"
   ]
  },
  {
   "cell_type": "code",
   "execution_count": 10,
   "id": "1007ae98-171e-4e93-914a-ef8e7d5e827e",
   "metadata": {},
   "outputs": [],
   "source": [
    "train = train.sort_index().reset_index()\n",
    "test = test.sort_index().reset_index()"
   ]
  },
  {
   "cell_type": "markdown",
   "id": "ef3b6849-a6ec-40d4-a4b3-a1f6b5d56635",
   "metadata": {},
   "source": [
    "## X and Y Datasets"
   ]
  },
  {
   "cell_type": "code",
   "execution_count": 11,
   "id": "4fc49ada-78eb-4e33-ac14-6b12102dee78",
   "metadata": {},
   "outputs": [],
   "source": [
    "train = train.merge(train_outcomes_df, on=\"PID\", how=\"inner\")\n",
    "train = train.drop(\"time\", axis=1)\n",
    "\n",
    "test = test.merge(test_outcomes_df, on=\"PID\", how=\"inner\")\n",
    "test = test.drop(\"time-DELETE THIS COLUMN FOR SUBMISSION\", axis=1)"
   ]
  },
  {
   "cell_type": "code",
   "execution_count": 12,
   "id": "74ca5212-282e-4bab-9a83-0bec90eb0ea0",
   "metadata": {},
   "outputs": [],
   "source": [
    "# Ensure we have a category dtype\n",
    "for col in train.select_dtypes(include='object').columns:\n",
    "    train[col] = train[col].astype('category')\n",
    "\n",
    "for col in test.select_dtypes(include='object').columns:\n",
    "    test[col] = test[col].astype('category')"
   ]
  },
  {
   "cell_type": "code",
   "execution_count": 13,
   "id": "7bab37a8-9f68-48c4-b49b-191c26305a56",
   "metadata": {},
   "outputs": [],
   "source": [
    "train = train[train['modben'] != 9.0].copy()\n",
    "train['modben'] = train['modben'].astype(int) - 1\n",
    "train.reset_index(drop=True, inplace=True)"
   ]
  },
  {
   "cell_type": "code",
   "execution_count": 14,
   "id": "2ecec074-f5c4-4a20-b29c-b1779f28468d",
   "metadata": {},
   "outputs": [],
   "source": [
    "x_train = train.drop(\"modben\", axis=1)\n",
    "y_train = train[\"modben\"]\n",
    "\n",
    "x_test = test.drop(\"modben\", axis=1)\n",
    "y_test = test[\"modben\"]"
   ]
  },
  {
   "cell_type": "code",
   "execution_count": 15,
   "id": "eb3f441d-4b37-4a47-a8b2-454a7fcf4721",
   "metadata": {},
   "outputs": [],
   "source": [
    "if \"PID\" in x_train.columns:\n",
    "    x_train = x_train.drop(columns=[\"PID\"])\n",
    "\n",
    "if \"PID\" in x_test.columns:\n",
    "    pid_test = x_test[\"PID\"].copy()\n",
    "    x_test = x_test.drop(columns=[\"PID\"])"
   ]
  },
  {
   "cell_type": "markdown",
   "id": "93e97008-7239-40ac-964b-a01d2c5f7336",
   "metadata": {},
   "source": [
    "## Utilities"
   ]
  },
  {
   "cell_type": "code",
   "execution_count": 16,
   "id": "d491d6ab-0638-43ff-afc8-631666a1fd7c",
   "metadata": {},
   "outputs": [],
   "source": [
    "from sklearn.metrics import (\n",
    "    classification_report,\n",
    "    confusion_matrix, \n",
    "    accuracy_score, \n",
    "    precision_score, \n",
    "    recall_score, \n",
    "    f1_score, \n",
    "    roc_curve, \n",
    "    auc, \n",
    "    precision_recall_curve\n",
    ")\n",
    "import matplotlib.pyplot as plt\n",
    "import numpy as np\n",
    "\n",
    "def evaluate_model(y_true, y_pred, title, project_dir, version):\n",
    "    \"\"\"\n",
    "    Evaluate a model using various metrics and generate precision-recall and ROC curves.\n",
    "\n",
    "    Parameters:\n",
    "    - y_true (array-like): True labels.\n",
    "    - y_pred (array-like): Predicted labels or class probabilities.\n",
    "    - title (str): Title for the evaluation.\n",
    "    - project_dir (str): Project directory.\n",
    "    - version (int): Current model version.\n",
    "    \"\"\"\n",
    "    try:\n",
    "        if len(y_true) != len(y_pred):\n",
    "            raise ValueError(\"Mismatched dimensions of y_true and y_pred.\")\n",
    "\n",
    "        accuracy = accuracy_score(y_true, y_pred)\n",
    "        report = classification_report(y_true, y_pred)\n",
    "        cm = confusion_matrix(y_true, y_pred)\n",
    "        precision = precision_score(y_true, y_pred, average=\"weighted\", zero_division=0)\n",
    "        recall = recall_score(y_true, y_pred, average=\"weighted\", zero_division=0)\n",
    "        f1 = f1_score(y_true, y_pred, average=\"weighted\", zero_division=0)\n",
    "\n",
    "        print(f\"\\n{title if title else 'Model Evaluation'}\")\n",
    "        print(f\"Accuracy: {accuracy:.4f}\")\n",
    "        print(\"Confusion Matrix:\\n\", cm)\n",
    "        print(f\"Precision (weighted): {precision:.4f}\")\n",
    "        print(f\"Recall (weighted):    {recall:.4f}\")\n",
    "        print(f\"F1 Score (weighted):  {f1:.4f}\")\n",
    "        print(\"Classification Report:\\n\", report)\n",
    "\n",
    "        # Optional: Precision-Recall and ROC curves\n",
    "        # Only works for binary classification or if probabilities are provided for multiclass\n",
    "        unique_classes = np.unique(y_true)\n",
    "        if len(unique_classes) == 2:\n",
    "            if hasattr(y_pred, \"shape\") and len(y_pred.shape) == 2 and y_pred.shape[1] > 1:\n",
    "                y_pred_scores = y_pred[:, 1]\n",
    "            else:\n",
    "                y_pred_scores = y_pred  # Must be probabilities for PR/ROC\n",
    "\n",
    "            pr_precision, pr_recall, _ = precision_recall_curve(y_true, y_pred_scores)\n",
    "            plt.figure()\n",
    "            plt.plot(pr_recall, pr_precision, color=\"darkorange\", lw=2)\n",
    "            plt.xlabel(\"Recall\")\n",
    "            plt.ylabel(\"Precision\")\n",
    "            plt.title(f\"{title}: Precision-Recall Curve\")\n",
    "            plt.savefig(f\"{project_dir}/{title}_PRC-v{version}.png\")\n",
    "\n",
    "            fpr, tpr, _ = roc_curve(y_true, y_pred_scores)\n",
    "            roc_auc = auc(fpr, tpr)\n",
    "            plt.figure()\n",
    "            plt.plot(fpr, tpr, color=\"darkorange\", lw=2, label=f\"ROC curve (area = {roc_auc:.2f})\")\n",
    "            plt.plot([0, 1], [0, 1], color=\"navy\", lw=2, linestyle=\"--\")\n",
    "            plt.xlabel(\"False Positive Rate\")\n",
    "            plt.ylabel(\"True Positive Rate\")\n",
    "            plt.title(f\"{title}: Receiver Operating Characteristic Curve\")\n",
    "            plt.legend(loc=\"lower right\")\n",
    "            plt.savefig(f\"{project_dir}/{title}_ROC-v{version}.png\")\n",
    "        else:\n",
    "            print(\"Skipping PR and ROC curve generation (requires binary classification).\")\n",
    "\n",
    "    except Exception as e:\n",
    "        print(f\"Error during model evaluation: {e}\")\n",
    "        raise"
   ]
  },
  {
   "cell_type": "code",
   "execution_count": 17,
   "id": "bca74694-0bf9-423d-807d-8f327f6aa63e",
   "metadata": {},
   "outputs": [],
   "source": [
    "import joblib\n",
    "\n",
    "def export_model(model, model_name, save_path):\n",
    "    \"\"\"\n",
    "    Export the trained model for serving predictions.\n",
    "\n",
    "    Parameters:\n",
    "    - model (Model): Trained model.\n",
    "    - model_name (str): Name of the model for logging purposes.\n",
    "    - save_path (str): Path to save the exported model.\n",
    "    \"\"\"\n",
    "    try:\n",
    "        print(f\"Saving model '{model_name}' to '{save_path}'\")\n",
    "        with open(save_path, \"wb\") as save_file:\n",
    "            joblib.dump(model, save_file)\n",
    "        print(f\"Model '{model_name}' successfully saved to '{save_path}'\")\n",
    "    except Exception as e:\n",
    "        print(f\"Error during model export for '{model_name}': {e}\")\n",
    "        raise"
   ]
  },
  {
   "cell_type": "markdown",
   "id": "a0513bf2-f7df-45c3-8eca-3f6690577801",
   "metadata": {},
   "source": [
    "## Train XGBoost"
   ]
  },
  {
   "cell_type": "code",
   "execution_count": 18,
   "id": "81ed55a2-b13d-4225-a4e1-f8f67374366a",
   "metadata": {},
   "outputs": [],
   "source": [
    "xgboost_classifier = {\n",
    "    \"colsample_bytree\": 0.5,\n",
    "    \"max_depth\": 2,\n",
    "    \"min_child_weight\": 2,\n",
    "    \"n_estimators\": 300,\n",
    "    \"subsample\": 0.55,\n",
    "    \"gamma\": 10,\n",
    "    \"eta\": 0.1\n",
    "}"
   ]
  },
  {
   "cell_type": "code",
   "execution_count": 19,
   "id": "d91366e8-be79-4e60-b358-61dc5ec94f0a",
   "metadata": {},
   "outputs": [],
   "source": [
    "xgb_parameters_grid = {\n",
    "    \"n_estimators\": stats.randint(max(100, xgboost_classifier[\"n_estimators\"] - 100), xgboost_classifier[\"n_estimators\"] + 200),\n",
    "    \"subsample\": stats.uniform(loc=max(0.5, xgboost_classifier[\"subsample\"] - 0.2), scale=0.4),\n",
    "    \"max_depth\": stats.randint(max(1, xgboost_classifier[\"max_depth\"] - 1), xgboost_classifier[\"max_depth\"] + 4),\n",
    "    \"colsample_bytree\": stats.uniform(loc=max(0.3, xgboost_classifier[\"colsample_bytree\"] - 0.2), scale=0.4),\n",
    "    \"min_child_weight\": stats.randint(max(1, xgboost_classifier[\"min_child_weight\"] - 1), xgboost_classifier[\"min_child_weight\"] + 4),\n",
    "    \"gamma\": stats.uniform(loc=0, scale=max(10, xgboost_classifier[\"gamma\"])),\n",
    "    \"eta\": stats.uniform(loc=0.01, scale=0.3)\n",
    "}"
   ]
  },
  {
   "cell_type": "code",
   "execution_count": 20,
   "id": "aa3f043f-9df1-439e-ab55-f194ff8a740d",
   "metadata": {},
   "outputs": [],
   "source": [
    "def train_xgboost(x, y, parameters_grid, version, cross_val=5, scoring=\"accuracy\", \n",
    "                  n_jobs=-1, error_score=\"raise\", verbose=10, dir=project_dir):\n",
    "    \"\"\"\n",
    "    Train an XGBoost model using randomized search for hyperparameter tuning.\n",
    "\n",
    "    Parameters\n",
    "    ==========\n",
    "    - x (pd.DataFrame): Input features.\n",
    "    - y (pd.Series): Labels.\n",
    "    - parameters_grid (dict): Hyperparameter grid for randomized search.\n",
    "    - version (int): Current working version.\n",
    "    - cross_val (int, optional): Number of cross-validation folds. Default is 5.\n",
    "    - scoring (str, optional): Scoring strategy for cross-validation. Default is \"accuracy\".\n",
    "    - n_jobs (int, optional): Number of jobs to run in parallel during cross-validation. Default is -1 (use all processors).\n",
    "    - error_score (str or numeric, optional): Value to assign to the score if an error occurs in cross-validation. Default is \"raise\".\n",
    "    - verbose (int, optional): Verbosity level. Default is 10.\n",
    "    - dir (str, optional): Directory to save cross-validation results. Default is the current directory.\n",
    "\n",
    "    Returns\n",
    "    =======\n",
    "    - best_params (dict): Best hyperparameters found during the search.\n",
    "    \"\"\"\n",
    "    print(f\"Parameters Grid: {parameters_grid}\")\n",
    "    print(f\"{cross_val}-fold cross-validation\")\n",
    "    print(f\"Scoring strategy: {scoring}\")\n",
    "    print(f\"Number of jobs to run in parallel: {n_jobs}\")\n",
    "    print(f\"Error score: {error_score}\")\n",
    "    print(f\"Verbosity: {verbose}\")\n",
    "\n",
    "    positive_instances = np.sum(y == 1)\n",
    "    negative_instances = np.sum(y == 0)\n",
    "    ratio = negative_instances / positive_instances\n",
    "    print(f\"Weight statistics: positive instances={positive_instances}\")\n",
    "    print(f\"Weight statistics: negative instances={negative_instances}\")\n",
    "    print(f\"Weight statistics: ratio={ratio}\")\n",
    "\n",
    "    xgboost_classifier = XGBClassifier(enable_categorical=True)\n",
    "    randomized_search = RandomizedSearchCV(\n",
    "        xgboost_classifier, \n",
    "        parameters_grid, \n",
    "        cv=cross_val, \n",
    "        scoring=scoring, \n",
    "        n_jobs=n_jobs, \n",
    "        error_score=error_score, \n",
    "        verbose=verbose\n",
    "    )\n",
    "\n",
    "    randomized_search.fit(x, y)\n",
    "    best_params = randomized_search.best_params_\n",
    "    print(f\"Best Parameters: {best_params}\")\n",
    "\n",
    "    cv_results_df = pd.DataFrame(randomized_search.cv_results_)\n",
    "    cv_results_file = f\"{dir}/data/xgboost_cv_results-v{version}.csv\"\n",
    "\n",
    "    cv_results_df.to_csv(cv_results_file, index=False)\n",
    "\n",
    "    return best_params, ratio"
   ]
  },
  {
   "cell_type": "code",
   "execution_count": 21,
   "id": "f2f92b58-13e6-4d8b-8fd4-64acf47dd5c0",
   "metadata": {},
   "outputs": [],
   "source": [
    "from sklearn.feature_selection import SelectFromModel\n",
    "\n",
    "def drop_zero_importance_features(model, x):\n",
    "    \"\"\"\n",
    "    Drop features with zero importance from the trained model.\n",
    "    \n",
    "    Parameters\n",
    "    ==========\n",
    "    model : XGBClassifier\n",
    "        Trained model with feature_importances_.\n",
    "    x : pd.DataFrame\n",
    "        Input features.\n",
    "    \n",
    "    Returns\n",
    "    =======\n",
    "    x_reduced : pd.DataFrame\n",
    "        DataFrame with only important features.\n",
    "    \"\"\"\n",
    "    selector = SelectFromModel(model, threshold=0, prefit=True)\n",
    "    selected_features = x.columns[selector.get_support()]\n",
    "    x_reduced = x[selected_features]\n",
    "    print(f\"Selected {len(selected_features)} features out of {x.shape[1]}\")\n",
    "    return x_reduced, selected_features\n"
   ]
  },
  {
   "cell_type": "code",
   "execution_count": 22,
   "id": "86e8a5dc-da33-48a7-9b6d-8bdb4fb223ba",
   "metadata": {},
   "outputs": [],
   "source": [
    "def train_xgboost_best(x, y, best_params, ratio, save_drive, version):\n",
    "    \"\"\"\n",
    "    Train an XGBoost model with the best hyperparameters.\n",
    "\n",
    "    Parameters:\n",
    "    - x (array-like): Input features.\n",
    "    - y (array-like): Labels.\n",
    "    - best_params (dict): Best hyperparameters.\n",
    "    - version (int): Current working version.\n",
    "\n",
    "    Returns:\n",
    "    - final_model: Trained XGBoost model.\n",
    "    \"\"\"\n",
    "    print(\"Final training with the best hyperparameters.\")\n",
    "    print(f\"Best hyperparameter configuration: {best_params}\")\n",
    "\n",
    "    # Input validation\n",
    "    if not isinstance(x, (np.ndarray, pd.DataFrame)):\n",
    "        print(\"Input 'x' must be a numpy array or a pandas DataFrame.\")\n",
    "        raise ValueError(\"Input 'x' must be a numpy array or a pandas DataFrame.\")\n",
    "    if not isinstance(y, (np.ndarray, pd.Series)):\n",
    "        print(\"Input 'y' must be a numpy array or a pandas DataFrame.\")\n",
    "        raise ValueError(\"Input 'y' must be a numpy array or a pandas Series.\")\n",
    "\n",
    "    # Initialize the model with the best hyperparameters\n",
    "    final_model = XGBClassifier(**best_params, enable_categorical=True)\n",
    "\n",
    "    try:\n",
    "        final_model.fit(x, y)\n",
    "        print(\"Final model training completed.\")\n",
    "\n",
    "        print(\"Getting feature importance..\")\n",
    "        feature_importance = final_model.feature_importances_\n",
    "        feature_names = x.columns\n",
    "\n",
    "        feature_importance_df = pd.DataFrame({'Feature': feature_names, 'Importance': feature_importance})\n",
    "        feature_importance_df = feature_importance_df.sort_values(by='Importance', ascending=False)\n",
    "\n",
    "        csv_file = f\"{save_drive}/xgboost_feature_importance-v{version}.csv\"\n",
    "        feature_importance_df.to_csv(csv_file, index=False)\n",
    "\n",
    "        print(f\"Feature importance saved in CSV file: {csv_file}\")\n",
    "\n",
    "        # Plot and save the top 10 features\n",
    "        top_10_feature_importance = feature_importance_df.head(10)\n",
    "        \n",
    "        plt.barh(top_10_feature_importance['Feature'], top_10_feature_importance['Importance'])\n",
    "        plt.title(\"Top 10 Important Features\")\n",
    "        save_plot_file = f\"{save_drive}/xgboost_top_10_feature_importance-v{version}.png\"\n",
    "        plt.savefig(save_plot_file, bbox_inches=\"tight\")\n",
    "\n",
    "        print(f\"Top 10 feature importance plot saved in {save_plot_file}\")\n",
    "    except Exception as e:\n",
    "        print(f\"Error during final model training: {e}\")\n",
    "        raise\n",
    "\n",
    "    return final_model"
   ]
  },
  {
   "cell_type": "code",
   "execution_count": 23,
   "id": "7ea19fa2-8106-4c90-bb7b-373c50ce9897",
   "metadata": {},
   "outputs": [],
   "source": [
    "def test_xgboost(x, y, model, evaluate, project_dir, version):\n",
    "    try:\n",
    "        print(\"Making XGBoost Predictions...\")\n",
    "        predictions = model.predict(x)\n",
    "\n",
    "        if evaluate:\n",
    "            print(\"Evaluating XGBoost Model...\")\n",
    "            evaluate_model(y, predictions, title=\"XGBoost Test\", project_dir=project_dir, version=version)\n",
    "\n",
    "        return model\n",
    "\n",
    "    except Exception as e:\n",
    "        print(f\"Error during XGBoost model testing: {e}\")\n",
    "        raise"
   ]
  },
  {
   "cell_type": "code",
   "execution_count": 24,
   "id": "66dd9949-5800-40c4-bc72-af8b14bde8a2",
   "metadata": {},
   "outputs": [
    {
     "name": "stdout",
     "output_type": "stream",
     "text": [
      "Parameters Grid: {'n_estimators': <scipy.stats._distn_infrastructure.rv_discrete_frozen object at 0x7f36ff06cfd0>, 'subsample': <scipy.stats._distn_infrastructure.rv_continuous_frozen object at 0x7f36ff06eb90>, 'max_depth': <scipy.stats._distn_infrastructure.rv_discrete_frozen object at 0x7f36ff06e5f0>, 'colsample_bytree': <scipy.stats._distn_infrastructure.rv_continuous_frozen object at 0x7f36ff06c1f0>, 'min_child_weight': <scipy.stats._distn_infrastructure.rv_discrete_frozen object at 0x7f36ff06d000>, 'gamma': <scipy.stats._distn_infrastructure.rv_continuous_frozen object at 0x7f36ff06c370>, 'eta': <scipy.stats._distn_infrastructure.rv_continuous_frozen object at 0x7f36ff06c910>}\n",
      "5-fold cross-validation\n",
      "Scoring strategy: accuracy\n",
      "Number of jobs to run in parallel: -1\n",
      "Error score: raise\n",
      "Verbosity: 10\n",
      "Weight statistics: positive instances=69\n",
      "Weight statistics: negative instances=277\n",
      "Weight statistics: ratio=4.0144927536231885\n",
      "Fitting 5 folds for each of 10 candidates, totalling 50 fits\n",
      "Best Parameters: {'colsample_bytree': np.float64(0.35457455742592214), 'eta': np.float64(0.16158962448995734), 'gamma': np.float64(6.974814472175708), 'max_depth': 5, 'min_child_weight': 5, 'n_estimators': 404, 'subsample': np.float64(0.6589375049959925)}\n"
     ]
    }
   ],
   "source": [
    "best_parameters, ratio = train_xgboost(x_train, y_train, parameters_grid=xgb_parameters_grid, version=VER)"
   ]
  },
  {
   "cell_type": "code",
   "execution_count": 35,
   "id": "a5513bfd-39ef-45fc-ba47-13532202ff69",
   "metadata": {},
   "outputs": [],
   "source": [
    "best_params_v26 = {\n",
    "    \"colsample_bytree\": 0.5453095392801284,\n",
    "    \"eta\": 0.20120832964550597,\n",
    "    \"gamma\": 6.402674847249719,\n",
    "    \"max_depth\": 1,\n",
    "    \"min_child_weight\": 4,\n",
    "    \"n_estimators\": 299,\n",
    "    \"subsample\": 0.8549997869017043\n",
    "}"
   ]
  },
  {
   "cell_type": "code",
   "execution_count": 25,
   "id": "4c665056-b507-4cc7-8396-019877e8837a",
   "metadata": {},
   "outputs": [
    {
     "name": "stdout",
     "output_type": "stream",
     "text": [
      "Selected 1410 features out of 1410\n"
     ]
    }
   ],
   "source": [
    "# Drop zero-importance features\n",
    "temp_model = XGBClassifier(**best_params_v26, enable_categorical=True) # Using Version 26's best parameters\n",
    "temp_model.fit(x_train, y_train)\n",
    "x_train_reduced, selected_features = drop_zero_importance_features(temp_model, x_train)"
   ]
  },
  {
   "cell_type": "code",
   "execution_count": 26,
   "id": "48517224-bcef-4e2c-bd9a-77a350187e63",
   "metadata": {},
   "outputs": [
    {
     "name": "stdout",
     "output_type": "stream",
     "text": [
      "Final training with the best hyperparameters.\n",
      "Best hyperparameter configuration: {'colsample_bytree': np.float64(0.35457455742592214), 'eta': np.float64(0.16158962448995734), 'gamma': np.float64(6.974814472175708), 'max_depth': 5, 'min_child_weight': 5, 'n_estimators': 404, 'subsample': np.float64(0.6589375049959925)}\n",
      "Final model training completed.\n",
      "Getting feature importance..\n",
      "Feature importance saved in CSV file: ..//output//xgboost_feature_importance-v28.csv\n",
      "Top 10 feature importance plot saved in ..//output//xgboost_top_10_feature_importance-v28.png\n"
     ]
    },
    {
     "data": {
      "image/png": "[encoded data removed]",
      "text/plain": [
       "<Figure size 640x480 with 1 Axes>"
      ]
     },
     "metadata": {},
     "output_type": "display_data"
    }
   ],
   "source": [
    "final_model = train_xgboost_best(x_train_reduced, \n",
    "                                 y_train, \n",
    "                                 best_params=best_params_v26, \n",
    "                                 ratio=ratio, \n",
    "                                 save_drive=f\"{project_dir}/output/\", \n",
    "                                 version=VER)"
   ]
  },
  {
   "cell_type": "code",
   "execution_count": 27,
   "id": "54d85764-6eff-4739-aa14-fb900620d161",
   "metadata": {
    "scrolled": true
   },
   "outputs": [
    {
     "name": "stdout",
     "output_type": "stream",
     "text": [
      "Saving model 'XGBoost Model-V28' to '..//data/models/xgboost_model-v28.joblib'\n",
      "Model 'XGBoost Model-V28' successfully saved to '..//data/models/xgboost_model-v28.joblib'\n"
     ]
    }
   ],
   "source": [
    "export_model(model=final_model,\n",
    "             model_name=f\"XGBoost Model-V{VER}\",\n",
    "             save_path=f\"{project_dir}/data/models/xgboost_model-v{VER}.joblib\")"
   ]
  },
  {
   "cell_type": "code",
   "execution_count": 28,
   "id": "f095edce-58c8-455e-bbab-b179335d9466",
   "metadata": {},
   "outputs": [],
   "source": [
    "# Save selected features\n",
    "pd.Series(selected_features).to_csv(f\"{project_dir}/data/models/xgboost_selected_features-v{VER}.csv\", index=False)"
   ]
  },
  {
   "cell_type": "markdown",
   "id": "0d3ae721-fe6b-444c-b1e0-f2882d556503",
   "metadata": {},
   "source": [
    "## Predicting on new unseen data"
   ]
  },
  {
   "cell_type": "code",
   "execution_count": 29,
   "id": "80038af5-72ae-4df0-8a48-6ed2e8a6ffb5",
   "metadata": {},
   "outputs": [],
   "source": [
    "predictions = final_model.predict(x_test)\n",
    "probabilities = final_model.predict_proba(x_test)"
   ]
  },
  {
   "cell_type": "code",
   "execution_count": 30,
   "id": "5a8bdba5-1f49-4668-a2cb-b85460f243cd",
   "metadata": {},
   "outputs": [],
   "source": [
    "result_df = x_test.copy()\n",
    "result_df[\"PID\"] = pid_test\n",
    "result_df[\"predicted_label\"] = predictions\n",
    "result_df[\"probability\"] = probabilities.max(axis=1)"
   ]
  },
  {
   "cell_type": "code",
   "execution_count": 31,
   "id": "8de86ae2-1a8f-4e85-8d2e-60e9feb00440",
   "metadata": {},
   "outputs": [],
   "source": [
    "submission_df = result_df[[\"PID\", \"predicted_label\"]].copy()\n",
    "submission_df[\"predicted_label\"] = submission_df[\"predicted_label\"] + 1"
   ]
  },
  {
   "cell_type": "code",
   "execution_count": 32,
   "id": "6d86727d-2693-44ed-89f6-1b3d1823d721",
   "metadata": {},
   "outputs": [],
   "source": [
    "submission_df = submission_df.rename(columns={\"predicted_label\":\"modben\"})"
   ]
  },
  {
   "cell_type": "code",
   "execution_count": 33,
   "id": "66f9801e-55e5-44d6-bae3-4b5f651665cc",
   "metadata": {
    "scrolled": true
   },
   "outputs": [
    {
     "data": {
      "text/html": [
       "<div>\n",
       "<style scoped>\n",
       "    .dataframe tbody tr th:only-of-type {\n",
       "        vertical-align: middle;\n",
       "    }\n",
       "\n",
       "    .dataframe tbody tr th {\n",
       "        vertical-align: top;\n",
       "    }\n",
       "\n",
       "    .dataframe thead th {\n",
       "        text-align: right;\n",
       "    }\n",
       "</style>\n",
       "<table border=\"1\" class=\"dataframe\">\n",
       "  <thead>\n",
       "    <tr style=\"text-align: right;\">\n",
       "      <th></th>\n",
       "      <th>PID</th>\n",
       "      <th>modben</th>\n",
       "    </tr>\n",
       "  </thead>\n",
       "  <tbody>\n",
       "    <tr>\n",
       "      <th>0</th>\n",
       "      <td>PID_110</td>\n",
       "      <td>1</td>\n",
       "    </tr>\n",
       "    <tr>\n",
       "      <th>1</th>\n",
       "      <td>PID_113</td>\n",
       "      <td>2</td>\n",
       "    </tr>\n",
       "    <tr>\n",
       "      <th>2</th>\n",
       "      <td>PID_114</td>\n",
       "      <td>6</td>\n",
       "    </tr>\n",
       "    <tr>\n",
       "      <th>3</th>\n",
       "      <td>PID_117</td>\n",
       "      <td>1</td>\n",
       "    </tr>\n",
       "    <tr>\n",
       "      <th>4</th>\n",
       "      <td>PID_120</td>\n",
       "      <td>7</td>\n",
       "    </tr>\n",
       "  </tbody>\n",
       "</table>\n",
       "</div>"
      ],
      "text/plain": [
       "       PID  modben\n",
       "0  PID_110       1\n",
       "1  PID_113       2\n",
       "2  PID_114       6\n",
       "3  PID_117       1\n",
       "4  PID_120       7"
      ]
     },
     "execution_count": 33,
     "metadata": {},
     "output_type": "execute_result"
    }
   ],
   "source": [
    "submission_df.head()"
   ]
  },
  {
   "cell_type": "code",
   "execution_count": 34,
   "id": "a862e195-8755-4e4c-8a63-fc821f4fc8fa",
   "metadata": {},
   "outputs": [
    {
     "name": "stdout",
     "output_type": "stream",
     "text": [
      "[CV 3/5; 1/10] START colsample_bytree=0.36625379880274267, eta=0.02156835928813109, gamma=2.2008949177246873, max_depth=1, min_child_weight=2, n_estimators=320, subsample=0.8192885940822361\n",
      "[CV 3/5; 1/10] END colsample_bytree=0.36625379880274267, eta=0.02156835928813109, gamma=2.2008949177246873, max_depth=1, min_child_weight=2, n_estimators=320, subsample=0.8192885940822361;, score=0.589 total time=   6.7s\n",
      "[CV 3/5; 2/10] START colsample_bytree=0.4594114940969666, eta=0.15998191091900152, gamma=6.9207846828983275, max_depth=2, min_child_weight=2, n_estimators=317, subsample=0.8073188336640629\n",
      "[CV 3/5; 2/10] END colsample_bytree=0.4594114940969666, eta=0.15998191091900152, gamma=6.9207846828983275, max_depth=2, min_child_weight=2, n_estimators=317, subsample=0.8073188336640629;, score=0.589 total time=   6.4s\n",
      "[CV 2/5; 3/10] START colsample_bytree=0.5420424547566111, eta=0.2084216549943165, gamma=6.924034322462368, max_depth=4, min_child_weight=3, n_estimators=249, subsample=0.7056650857399771\n",
      "[CV 2/5; 3/10] END colsample_bytree=0.5420424547566111, eta=0.2084216549943165, gamma=6.924034322462368, max_depth=4, min_child_weight=3, n_estimators=249, subsample=0.7056650857399771;, score=0.562 total time=   5.0s\n",
      "[CV 4/5; 3/10] START colsample_bytree=0.5420424547566111, eta=0.2084216549943165, gamma=6.924034322462368, max_depth=4, min_child_weight=3, n_estimators=249, subsample=0.7056650857399771\n",
      "[CV 4/5; 3/10] END colsample_bytree=0.5420424547566111, eta=0.2084216549943165, gamma=6.924034322462368, max_depth=4, min_child_weight=3, n_estimators=249, subsample=0.7056650857399771;, score=0.598 total time=   5.1s\n",
      "[CV 3/5; 4/10] START colsample_bytree=0.5123979606045649, eta=0.22091983637777413, gamma=3.7976896932623228, max_depth=5, min_child_weight=1, n_estimators=321, subsample=0.8445437486108682\n",
      "[CV 3/5; 4/10] END colsample_bytree=0.5123979606045649, eta=0.22091983637777413, gamma=3.7976896932623228, max_depth=5, min_child_weight=1, n_estimators=321, subsample=0.8445437486108682;, score=0.598 total time=   6.4s\n",
      "[CV 2/5; 5/10] START colsample_bytree=0.5279147567365299, eta=0.019659033341474376, gamma=7.349086621046924, max_depth=1, min_child_weight=2, n_estimators=351, subsample=0.7785207367949945\n",
      "[CV 2/5; 5/10] END colsample_bytree=0.5279147567365299, eta=0.019659033341474376, gamma=7.349086621046924, max_depth=1, min_child_weight=2, n_estimators=351, subsample=0.7785207367949945;, score=0.545 total time=   6.9s\n",
      "[CV 2/5; 6/10] START colsample_bytree=0.35457455742592214, eta=0.16158962448995734, gamma=6.974814472175708, max_depth=5, min_child_weight=5, n_estimators=404, subsample=0.6589375049959925\n",
      "[CV 2/5; 6/10] END colsample_bytree=0.35457455742592214, eta=0.16158962448995734, gamma=6.974814472175708, max_depth=5, min_child_weight=5, n_estimators=404, subsample=0.6589375049959925;, score=0.571 total time=   8.2s\n",
      "[CV 1/5; 7/10] START colsample_bytree=0.3296502183658719, eta=0.26029371843878657, gamma=5.571418767000386, max_depth=1, min_child_weight=2, n_estimators=276, subsample=0.6268380753205223\n",
      "[CV 1/5; 7/10] END colsample_bytree=0.3296502183658719, eta=0.26029371843878657, gamma=5.571418767000386, max_depth=1, min_child_weight=2, n_estimators=276, subsample=0.6268380753205223;, score=0.566 total time=   7.0s\n",
      "[CV 5/5; 7/10] START colsample_bytree=0.3296502183658719, eta=0.26029371843878657, gamma=5.571418767000386, max_depth=1, min_child_weight=2, n_estimators=276, subsample=0.6268380753205223\n",
      "[CV 5/5; 7/10] END colsample_bytree=0.3296502183658719, eta=0.26029371843878657, gamma=5.571418767000386, max_depth=1, min_child_weight=2, n_estimators=276, subsample=0.6268380753205223;, score=0.562 total time=   6.5s\n",
      "[CV 3/5; 8/10] START colsample_bytree=0.6952319033706926, eta=0.13859513185896422, gamma=0.5613804801978817, max_depth=3, min_child_weight=2, n_estimators=428, subsample=0.7597286081344596\n",
      "[CV 3/5; 8/10] END colsample_bytree=0.6952319033706926, eta=0.13859513185896422, gamma=0.5613804801978817, max_depth=3, min_child_weight=2, n_estimators=428, subsample=0.7597286081344596;, score=0.536 total time=  10.5s\n",
      "[CV 3/5; 9/10] START colsample_bytree=0.3164441040140984, eta=0.20749783359245194, gamma=8.112292419868046, max_depth=4, min_child_weight=3, n_estimators=477, subsample=0.861213683416971\n",
      "[CV 3/5; 9/10] END colsample_bytree=0.3164441040140984, eta=0.20749783359245194, gamma=8.112292419868046, max_depth=4, min_child_weight=3, n_estimators=477, subsample=0.861213683416971;, score=0.589 total time=  10.1s\n",
      "[CV 2/5; 10/10] START colsample_bytree=0.4999788057672656, eta=0.08204200945078066, gamma=5.194365946773606, max_depth=4, min_child_weight=2, n_estimators=417, subsample=0.6913354498573824\n",
      "[CV 2/5; 10/10] END colsample_bytree=0.4999788057672656, eta=0.08204200945078066, gamma=5.194365946773606, max_depth=4, min_child_weight=2, n_estimators=417, subsample=0.6913354498573824;, score=0.554 total time=   7.9s\n",
      "[CV 2/5; 1/10] START colsample_bytree=0.36625379880274267, eta=0.02156835928813109, gamma=2.2008949177246873, max_depth=1, min_child_weight=2, n_estimators=320, subsample=0.8192885940822361\n",
      "[CV 2/5; 1/10] END colsample_bytree=0.36625379880274267, eta=0.02156835928813109, gamma=2.2008949177246873, max_depth=1, min_child_weight=2, n_estimators=320, subsample=0.8192885940822361;, score=0.554 total time=   6.4s\n",
      "[CV 1/5; 2/10] START colsample_bytree=0.4594114940969666, eta=0.15998191091900152, gamma=6.9207846828983275, max_depth=2, min_child_weight=2, n_estimators=317, subsample=0.8073188336640629\n",
      "[CV 1/5; 2/10] END colsample_bytree=0.4594114940969666, eta=0.15998191091900152, gamma=6.9207846828983275, max_depth=2, min_child_weight=2, n_estimators=317, subsample=0.8073188336640629;, score=0.584 total time=   6.3s\n",
      "[CV 5/5; 2/10] START colsample_bytree=0.4594114940969666, eta=0.15998191091900152, gamma=6.9207846828983275, max_depth=2, min_child_weight=2, n_estimators=317, subsample=0.8073188336640629\n",
      "[CV 5/5; 2/10] END colsample_bytree=0.4594114940969666, eta=0.15998191091900152, gamma=6.9207846828983275, max_depth=2, min_child_weight=2, n_estimators=317, subsample=0.8073188336640629;, score=0.562 total time=   6.0s\n",
      "[CV 1/5; 4/10] START colsample_bytree=0.5123979606045649, eta=0.22091983637777413, gamma=3.7976896932623228, max_depth=5, min_child_weight=1, n_estimators=321, subsample=0.8445437486108682\n",
      "[CV 1/5; 4/10] END colsample_bytree=0.5123979606045649, eta=0.22091983637777413, gamma=3.7976896932623228, max_depth=5, min_child_weight=1, n_estimators=321, subsample=0.8445437486108682;, score=0.584 total time=   6.1s\n",
      "[CV 5/5; 4/10] START colsample_bytree=0.5123979606045649, eta=0.22091983637777413, gamma=3.7976896932623228, max_depth=5, min_child_weight=1, n_estimators=321, subsample=0.8445437486108682\n",
      "[CV 5/5; 4/10] END colsample_bytree=0.5123979606045649, eta=0.22091983637777413, gamma=3.7976896932623228, max_depth=5, min_child_weight=1, n_estimators=321, subsample=0.8445437486108682;, score=0.571 total time=   6.2s\n",
      "[CV 4/5; 5/10] START colsample_bytree=0.5279147567365299, eta=0.019659033341474376, gamma=7.349086621046924, max_depth=1, min_child_weight=2, n_estimators=351, subsample=0.7785207367949945\n",
      "[CV 4/5; 5/10] END colsample_bytree=0.5279147567365299, eta=0.019659033341474376, gamma=7.349086621046924, max_depth=1, min_child_weight=2, n_estimators=351, subsample=0.7785207367949945;, score=0.571 total time=   6.5s\n",
      "[CV 3/5; 6/10] START colsample_bytree=0.35457455742592214, eta=0.16158962448995734, gamma=6.974814472175708, max_depth=5, min_child_weight=5, n_estimators=404, subsample=0.6589375049959925\n",
      "[CV 3/5; 6/10] END colsample_bytree=0.35457455742592214, eta=0.16158962448995734, gamma=6.974814472175708, max_depth=5, min_child_weight=5, n_estimators=404, subsample=0.6589375049959925;, score=0.607 total time=   7.6s\n",
      "[CV 2/5; 7/10] START colsample_bytree=0.3296502183658719, eta=0.26029371843878657, gamma=5.571418767000386, max_depth=1, min_child_weight=2, n_estimators=276, subsample=0.6268380753205223\n",
      "[CV 2/5; 7/10] END colsample_bytree=0.3296502183658719, eta=0.26029371843878657, gamma=5.571418767000386, max_depth=1, min_child_weight=2, n_estimators=276, subsample=0.6268380753205223;, score=0.562 total time=   6.4s\n",
      "[CV 4/5; 7/10] START colsample_bytree=0.3296502183658719, eta=0.26029371843878657, gamma=5.571418767000386, max_depth=1, min_child_weight=2, n_estimators=276, subsample=0.6268380753205223\n",
      "[CV 4/5; 7/10] END colsample_bytree=0.3296502183658719, eta=0.26029371843878657, gamma=5.571418767000386, max_depth=1, min_child_weight=2, n_estimators=276, subsample=0.6268380753205223;, score=0.571 total time=   6.8s\n",
      "[CV 4/5; 8/10] START colsample_bytree=0.6952319033706926, eta=0.13859513185896422, gamma=0.5613804801978817, max_depth=3, min_child_weight=2, n_estimators=428, subsample=0.7597286081344596\n",
      "[CV 4/5; 8/10] END colsample_bytree=0.6952319033706926, eta=0.13859513185896422, gamma=0.5613804801978817, max_depth=3, min_child_weight=2, n_estimators=428, subsample=0.7597286081344596;, score=0.571 total time=  10.0s\n",
      "[CV 2/5; 9/10] START colsample_bytree=0.3164441040140984, eta=0.20749783359245194, gamma=8.112292419868046, max_depth=4, min_child_weight=3, n_estimators=477, subsample=0.861213683416971\n",
      "[CV 2/5; 9/10] END colsample_bytree=0.3164441040140984, eta=0.20749783359245194, gamma=8.112292419868046, max_depth=4, min_child_weight=3, n_estimators=477, subsample=0.861213683416971;, score=0.554 total time=   9.4s\n",
      "[CV 1/5; 10/10] START colsample_bytree=0.4999788057672656, eta=0.08204200945078066, gamma=5.194365946773606, max_depth=4, min_child_weight=2, n_estimators=417, subsample=0.6913354498573824\n",
      "[CV 1/5; 10/10] END colsample_bytree=0.4999788057672656, eta=0.08204200945078066, gamma=5.194365946773606, max_depth=4, min_child_weight=2, n_estimators=417, subsample=0.6913354498573824;, score=0.566 total time=   7.8s\n",
      "[CV 5/5; 10/10] START colsample_bytree=0.4999788057672656, eta=0.08204200945078066, gamma=5.194365946773606, max_depth=4, min_child_weight=2, n_estimators=417, subsample=0.6913354498573824\n",
      "[CV 5/5; 10/10] END colsample_bytree=0.4999788057672656, eta=0.08204200945078066, gamma=5.194365946773606, max_depth=4, min_child_weight=2, n_estimators=417, subsample=0.6913354498573824;, score=0.562 total time=   5.1s\n",
      "[CV 1/5; 1/10] START colsample_bytree=0.36625379880274267, eta=0.02156835928813109, gamma=2.2008949177246873, max_depth=1, min_child_weight=2, n_estimators=320, subsample=0.8192885940822361\n",
      "[CV 1/5; 1/10] END colsample_bytree=0.36625379880274267, eta=0.02156835928813109, gamma=2.2008949177246873, max_depth=1, min_child_weight=2, n_estimators=320, subsample=0.8192885940822361;, score=0.558 total time=   6.4s\n",
      "[CV 5/5; 1/10] START colsample_bytree=0.36625379880274267, eta=0.02156835928813109, gamma=2.2008949177246873, max_depth=1, min_child_weight=2, n_estimators=320, subsample=0.8192885940822361\n",
      "[CV 5/5; 1/10] END colsample_bytree=0.36625379880274267, eta=0.02156835928813109, gamma=2.2008949177246873, max_depth=1, min_child_weight=2, n_estimators=320, subsample=0.8192885940822361;, score=0.545 total time=   6.4s\n",
      "[CV 4/5; 2/10] START colsample_bytree=0.4594114940969666, eta=0.15998191091900152, gamma=6.9207846828983275, max_depth=2, min_child_weight=2, n_estimators=317, subsample=0.8073188336640629\n",
      "[CV 4/5; 2/10] END colsample_bytree=0.4594114940969666, eta=0.15998191091900152, gamma=6.9207846828983275, max_depth=2, min_child_weight=2, n_estimators=317, subsample=0.8073188336640629;, score=0.589 total time=   6.0s\n",
      "[CV 5/5; 3/10] START colsample_bytree=0.5420424547566111, eta=0.2084216549943165, gamma=6.924034322462368, max_depth=4, min_child_weight=3, n_estimators=249, subsample=0.7056650857399771\n",
      "[CV 5/5; 3/10] END colsample_bytree=0.5420424547566111, eta=0.2084216549943165, gamma=6.924034322462368, max_depth=4, min_child_weight=3, n_estimators=249, subsample=0.7056650857399771;, score=0.562 total time=   4.9s\n",
      "[CV 4/5; 4/10] START colsample_bytree=0.5123979606045649, eta=0.22091983637777413, gamma=3.7976896932623228, max_depth=5, min_child_weight=1, n_estimators=321, subsample=0.8445437486108682\n",
      "[CV 4/5; 4/10] END colsample_bytree=0.5123979606045649, eta=0.22091983637777413, gamma=3.7976896932623228, max_depth=5, min_child_weight=1, n_estimators=321, subsample=0.8445437486108682;, score=0.580 total time=   6.2s\n",
      "[CV 3/5; 5/10] START colsample_bytree=0.5279147567365299, eta=0.019659033341474376, gamma=7.349086621046924, max_depth=1, min_child_weight=2, n_estimators=351, subsample=0.7785207367949945\n",
      "[CV 3/5; 5/10] END colsample_bytree=0.5279147567365299, eta=0.019659033341474376, gamma=7.349086621046924, max_depth=1, min_child_weight=2, n_estimators=351, subsample=0.7785207367949945;, score=0.571 total time=   6.6s\n",
      "[CV 1/5; 6/10] START colsample_bytree=0.35457455742592214, eta=0.16158962448995734, gamma=6.974814472175708, max_depth=5, min_child_weight=5, n_estimators=404, subsample=0.6589375049959925\n",
      "[CV 1/5; 6/10] END colsample_bytree=0.35457455742592214, eta=0.16158962448995734, gamma=6.974814472175708, max_depth=5, min_child_weight=5, n_estimators=404, subsample=0.6589375049959925;, score=0.584 total time=   8.1s\n",
      "[CV 5/5; 6/10] START colsample_bytree=0.35457455742592214, eta=0.16158962448995734, gamma=6.974814472175708, max_depth=5, min_child_weight=5, n_estimators=404, subsample=0.6589375049959925\n",
      "[CV 5/5; 6/10] END colsample_bytree=0.35457455742592214, eta=0.16158962448995734, gamma=6.974814472175708, max_depth=5, min_child_weight=5, n_estimators=404, subsample=0.6589375049959925;, score=0.562 total time=   9.8s\n",
      "[CV 1/5; 8/10] START colsample_bytree=0.6952319033706926, eta=0.13859513185896422, gamma=0.5613804801978817, max_depth=3, min_child_weight=2, n_estimators=428, subsample=0.7597286081344596\n",
      "[CV 1/5; 8/10] END colsample_bytree=0.6952319033706926, eta=0.13859513185896422, gamma=0.5613804801978817, max_depth=3, min_child_weight=2, n_estimators=428, subsample=0.7597286081344596;, score=0.558 total time=  10.5s\n",
      "[CV 5/5; 8/10] START colsample_bytree=0.6952319033706926, eta=0.13859513185896422, gamma=0.5613804801978817, max_depth=3, min_child_weight=2, n_estimators=428, subsample=0.7597286081344596\n",
      "[CV 5/5; 8/10] END colsample_bytree=0.6952319033706926, eta=0.13859513185896422, gamma=0.5613804801978817, max_depth=3, min_child_weight=2, n_estimators=428, subsample=0.7597286081344596;, score=0.536 total time=   9.9s\n",
      "[CV 4/5; 9/10] START colsample_bytree=0.3164441040140984, eta=0.20749783359245194, gamma=8.112292419868046, max_depth=4, min_child_weight=3, n_estimators=477, subsample=0.861213683416971\n",
      "[CV 4/5; 9/10] END colsample_bytree=0.3164441040140984, eta=0.20749783359245194, gamma=8.112292419868046, max_depth=4, min_child_weight=3, n_estimators=477, subsample=0.861213683416971;, score=0.571 total time=   8.9s\n",
      "[CV 3/5; 10/10] START colsample_bytree=0.4999788057672656, eta=0.08204200945078066, gamma=5.194365946773606, max_depth=4, min_child_weight=2, n_estimators=417, subsample=0.6913354498573824\n",
      "[CV 3/5; 10/10] END colsample_bytree=0.4999788057672656, eta=0.08204200945078066, gamma=5.194365946773606, max_depth=4, min_child_weight=2, n_estimators=417, subsample=0.6913354498573824;, score=0.589 total time=   7.5s\n",
      "[CV 4/5; 1/10] START colsample_bytree=0.36625379880274267, eta=0.02156835928813109, gamma=2.2008949177246873, max_depth=1, min_child_weight=2, n_estimators=320, subsample=0.8192885940822361\n",
      "[CV 4/5; 1/10] END colsample_bytree=0.36625379880274267, eta=0.02156835928813109, gamma=2.2008949177246873, max_depth=1, min_child_weight=2, n_estimators=320, subsample=0.8192885940822361;, score=0.571 total time=   6.4s\n",
      "[CV 2/5; 2/10] START colsample_bytree=0.4594114940969666, eta=0.15998191091900152, gamma=6.9207846828983275, max_depth=2, min_child_weight=2, n_estimators=317, subsample=0.8073188336640629\n",
      "[CV 2/5; 2/10] END colsample_bytree=0.4594114940969666, eta=0.15998191091900152, gamma=6.9207846828983275, max_depth=2, min_child_weight=2, n_estimators=317, subsample=0.8073188336640629;, score=0.554 total time=   6.2s\n",
      "[CV 1/5; 3/10] START colsample_bytree=0.5420424547566111, eta=0.2084216549943165, gamma=6.924034322462368, max_depth=4, min_child_weight=3, n_estimators=249, subsample=0.7056650857399771\n",
      "[CV 1/5; 3/10] END colsample_bytree=0.5420424547566111, eta=0.2084216549943165, gamma=6.924034322462368, max_depth=4, min_child_weight=3, n_estimators=249, subsample=0.7056650857399771;, score=0.566 total time=   4.9s\n",
      "[CV 3/5; 3/10] START colsample_bytree=0.5420424547566111, eta=0.2084216549943165, gamma=6.924034322462368, max_depth=4, min_child_weight=3, n_estimators=249, subsample=0.7056650857399771\n",
      "[CV 3/5; 3/10] END colsample_bytree=0.5420424547566111, eta=0.2084216549943165, gamma=6.924034322462368, max_depth=4, min_child_weight=3, n_estimators=249, subsample=0.7056650857399771;, score=0.598 total time=   4.9s\n",
      "[CV 2/5; 4/10] START colsample_bytree=0.5123979606045649, eta=0.22091983637777413, gamma=3.7976896932623228, max_depth=5, min_child_weight=1, n_estimators=321, subsample=0.8445437486108682\n",
      "[CV 2/5; 4/10] END colsample_bytree=0.5123979606045649, eta=0.22091983637777413, gamma=3.7976896932623228, max_depth=5, min_child_weight=1, n_estimators=321, subsample=0.8445437486108682;, score=0.545 total time=   6.1s\n",
      "[CV 1/5; 5/10] START colsample_bytree=0.5279147567365299, eta=0.019659033341474376, gamma=7.349086621046924, max_depth=1, min_child_weight=2, n_estimators=351, subsample=0.7785207367949945\n",
      "[CV 1/5; 5/10] END colsample_bytree=0.5279147567365299, eta=0.019659033341474376, gamma=7.349086621046924, max_depth=1, min_child_weight=2, n_estimators=351, subsample=0.7785207367949945;, score=0.566 total time=   6.5s\n",
      "[CV 5/5; 5/10] START colsample_bytree=0.5279147567365299, eta=0.019659033341474376, gamma=7.349086621046924, max_depth=1, min_child_weight=2, n_estimators=351, subsample=0.7785207367949945\n",
      "[CV 5/5; 5/10] END colsample_bytree=0.5279147567365299, eta=0.019659033341474376, gamma=7.349086621046924, max_depth=1, min_child_weight=2, n_estimators=351, subsample=0.7785207367949945;, score=0.571 total time=   6.5s\n",
      "[CV 4/5; 6/10] START colsample_bytree=0.35457455742592214, eta=0.16158962448995734, gamma=6.974814472175708, max_depth=5, min_child_weight=5, n_estimators=404, subsample=0.6589375049959925\n",
      "[CV 4/5; 6/10] END colsample_bytree=0.35457455742592214, eta=0.16158962448995734, gamma=6.974814472175708, max_depth=5, min_child_weight=5, n_estimators=404, subsample=0.6589375049959925;, score=0.589 total time=   8.2s\n",
      "[CV 3/5; 7/10] START colsample_bytree=0.3296502183658719, eta=0.26029371843878657, gamma=5.571418767000386, max_depth=1, min_child_weight=2, n_estimators=276, subsample=0.6268380753205223\n",
      "[CV 3/5; 7/10] END colsample_bytree=0.3296502183658719, eta=0.26029371843878657, gamma=5.571418767000386, max_depth=1, min_child_weight=2, n_estimators=276, subsample=0.6268380753205223;, score=0.607 total time=   6.4s\n",
      "[CV 2/5; 8/10] START colsample_bytree=0.6952319033706926, eta=0.13859513185896422, gamma=0.5613804801978817, max_depth=3, min_child_weight=2, n_estimators=428, subsample=0.7597286081344596\n",
      "[CV 2/5; 8/10] END colsample_bytree=0.6952319033706926, eta=0.13859513185896422, gamma=0.5613804801978817, max_depth=3, min_child_weight=2, n_estimators=428, subsample=0.7597286081344596;, score=0.554 total time=  10.7s\n",
      "[CV 1/5; 9/10] START colsample_bytree=0.3164441040140984, eta=0.20749783359245194, gamma=8.112292419868046, max_depth=4, min_child_weight=3, n_estimators=477, subsample=0.861213683416971\n",
      "[CV 1/5; 9/10] END colsample_bytree=0.3164441040140984, eta=0.20749783359245194, gamma=8.112292419868046, max_depth=4, min_child_weight=3, n_estimators=477, subsample=0.861213683416971;, score=0.584 total time=   9.0s\n",
      "[CV 5/5; 9/10] START colsample_bytree=0.3164441040140984, eta=0.20749783359245194, gamma=8.112292419868046, max_depth=4, min_child_weight=3, n_estimators=477, subsample=0.861213683416971\n",
      "[CV 5/5; 9/10] END colsample_bytree=0.3164441040140984, eta=0.20749783359245194, gamma=8.112292419868046, max_depth=4, min_child_weight=3, n_estimators=477, subsample=0.861213683416971;, score=0.554 total time=   8.8s\n",
      "[CV 4/5; 10/10] START colsample_bytree=0.4999788057672656, eta=0.08204200945078066, gamma=5.194365946773606, max_depth=4, min_child_weight=2, n_estimators=417, subsample=0.6913354498573824\n",
      "[CV 4/5; 10/10] END colsample_bytree=0.4999788057672656, eta=0.08204200945078066, gamma=5.194365946773606, max_depth=4, min_child_weight=2, n_estimators=417, subsample=0.6913354498573824;, score=0.589 total time=   7.0s\n"
     ]
    }
   ],
   "source": [
    "with open(f\"../data/predicted_xgb_v{VER}.csv\", \"wb\") as input_csv:\n",
    "    submission_df.to_csv(input_csv, index=False)"
   ]
  },
  {
   "cell_type": "code",
   "execution_count": null,
   "id": "4ff701aa-185a-44db-9bc9-4df9e80e9c65",
   "metadata": {},
   "outputs": [],
   "source": []
  },
  {
   "cell_type": "code",
   "execution_count": null,
   "id": "c2f6ca5a-3da5-49a4-bf9e-dda13e2a1e0f",
   "metadata": {},
   "outputs": [],
   "source": []
  },
  {
   "cell_type": "code",
   "execution_count": null,
   "id": "62372306-16c1-4888-ab8a-3bc41229a58c",
   "metadata": {},
   "outputs": [],
   "source": []
  }
 ],
 "metadata": {
  "kernelspec": {
   "display_name": "Python 3 (ipykernel)",
   "language": "python",
   "name": "python3"
  },
  "language_info": {
   "codemirror_mode": {
    "name": "ipython",
    "version": 3
   },
   "file_extension": ".py",
   "mimetype": "text/x-python",
   "name": "python",
   "nbconvert_exporter": "python",
   "pygments_lexer": "ipython3",
   "version": "3.10.12"
  }
 },
 "nbformat": 4,
 "nbformat_minor": 5
}
